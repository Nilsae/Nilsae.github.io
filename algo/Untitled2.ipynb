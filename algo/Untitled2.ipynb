{
 "cells": [
  {
   "cell_type": "code",
   "execution_count": 8,
   "metadata": {},
   "outputs": [
    {
     "name": "stdout",
     "output_type": "stream",
     "text": [
      "7\n",
      "[[1, 1, 1, 3, 5, 5, 5], [0, 1, 1, 3, 3, 3, 3], [0, 0, 1, 1, 1, 1, 1], [0, 0, 0, 1, 1, 1, 1], [0, 0, 0, 0, 1, 1, 1], [0, 0, 0, 0, 0, 1, 1], [0, 0, 0, 0, 0, 0, 1]]\n",
      "The length of the LPS is 5\n",
      "\n",
      "\n",
      "\n",
      "\n",
      "\n",
      "\n",
      "\n",
      "\n",
      "[[1, 1, 1, 3, 5, 5, 5], [0, 1, 1, 3, 3, 3, 3], [0, 0, 1, 1, 1, 1, 1], [0, 0, 0, 1, 1, 1, 1], [0, 0, 0, 0, 1, 1, 1], [0, 0, 0, 0, 0, 1, 1], [0, 0, 0, 0, 0, 0, 1]]\n"
     ]
    }
   ],
   "source": [
    "# A Dynamic Programming based Python\n",
    "# program for LPS problem Returns the length\n",
    "# of the longest palindromic subsequence in seq\n",
    "def lps(str):\n",
    "\tn = len(str)\n",
    "\n",
    "\tprint(n)# Create a table to store results of subproblems\n",
    "\t\n",
    "\n",
    "\t# Strings of length 1 are palindrome of length 1\n",
    "\tfor i in range(n):\n",
    "\t\tL[i][i] = 1\n",
    "\n",
    "\t# Build the table. Note that the lower\n",
    "\t# diagonal values of table are\n",
    "\t# useless and not filled in the process.\n",
    "\t# The values are filled in a\n",
    "\t# manner similar to Matrix Chain\n",
    "\t# Multiplication DP solution (See\n",
    "\t# https://www.geeksforgeeks.org/dynamic-programming-set-8-matrix-chain-multiplication/\n",
    "\t# cl is length of substring\n",
    "\tfor cl in range(2, n+1):\n",
    "\t\tfor i in range(n-cl+1):\n",
    "\t\t\tj = i+cl-1\n",
    "\t\t\tif str[i] == str[j] and cl == 2:\n",
    "\t\t\t\tL[i][j] = 2\n",
    "\t\t\telif str[i] == str[j]:\n",
    "\t\t\t\tL[i][j] = L[i+1][j-1] + 2\n",
    "\t\t\telse:\n",
    "\t\t\t\tL[i][j] = max(L[i][j-1], L[i+1][j]);\n",
    "\tprint(L)\n",
    "\treturn L[0][n-1]\n",
    "\n",
    "# Driver program to test above functions\n",
    "seq = \"GEREGKS\"\n",
    "n = len(seq)\n",
    "L = [[0 for x in range(n)] for x in range(n)]\n",
    "\n",
    "print(\"The length of the LPS is \" + str(lps(seq)))\n",
    "print(\"\\n\\n\\n\\n\\n\\n\\n\")\n",
    "print(L)\n",
    "\n",
    "# This code is contributed by Bhavya Jain\n"
   ]
  },
  {
   "cell_type": "code",
   "execution_count": 10,
   "metadata": {},
   "outputs": [],
   "source": [
    "DRefsd = [[0 for x in range(5)] for x in range(5)]"
   ]
  },
  {
   "cell_type": "code",
   "execution_count": 11,
   "metadata": {},
   "outputs": [],
   "source": [
    "DRefsd[1][3]=1"
   ]
  },
  {
   "cell_type": "code",
   "execution_count": 12,
   "metadata": {},
   "outputs": [
    {
     "data": {
      "text/plain": [
       "[[0, 0, 0, 0, 0],\n",
       " [0, 0, 0, 1, 0],\n",
       " [0, 0, 0, 0, 0],\n",
       " [0, 0, 0, 0, 0],\n",
       " [0, 0, 0, 0, 0]]"
      ]
     },
     "execution_count": 12,
     "metadata": {},
     "output_type": "execute_result"
    }
   ],
   "source": [
    "DRefsd"
   ]
  },
  {
   "cell_type": "code",
   "execution_count": null,
   "metadata": {},
   "outputs": [],
   "source": []
  }
 ],
 "metadata": {
  "kernelspec": {
   "display_name": "Python 3",
   "language": "python",
   "name": "python3"
  },
  "language_info": {
   "codemirror_mode": {
    "name": "ipython",
    "version": 3
   },
   "file_extension": ".py",
   "mimetype": "text/x-python",
   "name": "python",
   "nbconvert_exporter": "python",
   "pygments_lexer": "ipython3",
   "version": "3.8.5"
  }
 },
 "nbformat": 4,
 "nbformat_minor": 4
}
